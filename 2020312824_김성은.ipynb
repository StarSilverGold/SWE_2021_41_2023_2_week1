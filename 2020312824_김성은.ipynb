{
  "cells": [
    {
      "cell_type": "markdown",
      "metadata": {
        "id": "TV3Socqg8BVl"
      },
      "source": [
        "## Task\n",
        "- Complete **isHappy** function following the description below\n",
        "\n",
        "### Happy Number\n",
        "Write an algorithm to determine if a number **n** is happy.\n",
        "\n",
        "A **happy number** is a number defined by the following process:\n",
        "\n",
        "* Starting with any positive integer, replace the number by the sum of the squares of its digits.\n",
        "* Repeat the process until the number equals 1 (where it will stay), or it **loops endlessly in a cycle** which does not include 1.\n",
        "* Those numbers for which this process **ends in 1** are happy.\n",
        "\n",
        "Return **true** if n is a happy number, and **false** if not.\n",
        "\n",
        "Constraints:\n",
        "1 <= n <= $2^{31}$ - 1"
      ]
    },
    {
      "cell_type": "code",
      "execution_count": 37,
      "metadata": {
        "colab": {
          "base_uri": "https://localhost:8080/"
        },
        "id": "5FcxitVf5kdQ",
        "outputId": "f2a432a9-d8d7-49e8-ed3d-1379d590dc0e",
        "tags": [
          "git clone"
        ]
      },
      "outputs": [
        {
          "name": "stdout",
          "output_type": "stream",
          "text": [
            "ㅜ = 7\n",
            "True\n"
          ]
        }
      ],
      "source": [
        "cycle = {1:1}\n",
        "\n",
        "def isHappy(n):\n",
        "  if n in cycle:\n",
        "    if cycle[n] == 1:\n",
        "      return 1\n",
        "    elif cycle[n] == 2:\n",
        "      return 0\n",
        "  cycle[n]=2\n",
        "  a=0\n",
        "  while n:\n",
        "    a += (n % 10)**2\n",
        "    n = n // 10\n",
        "  return isHappy(a)\n",
        "\n",
        "a, b, n = input().split()\n",
        "n = int(n)\n",
        "print (\"{}\".format(\"True\" if isHappy(n) else \"False\"))\n",
        "\n",
        "\n"
      ]
    },
    {
      "cell_type": "markdown",
      "metadata": {
        "id": "eRrh24Ognrqf"
      },
      "source": [
        "**Testcase 1.**\n",
        "\n",
        "**Input**: n = 19\n",
        "\n",
        "**Output**: True\n",
        "\n",
        "**Explanation**:\n",
        "\n",
        "$1^2 + 9^2 = 82$\n",
        "\n",
        "$8^2 + 2^2 = 68$\n",
        "\n",
        "$6^2 + 2^2 = 100$\n",
        "\n",
        "$1^2 + 0^2 + 0^2 = 1$"
      ]
    },
    {
      "cell_type": "markdown",
      "metadata": {
        "id": "dE7YMY8qoPoj"
      },
      "source": [
        "**Testcase 2.**\n",
        "\n",
        "**Input**: n = 2\n",
        "\n",
        "**Output**: False"
      ]
    }
  ],
  "metadata": {
    "colab": {
      "provenance": []
    },
    "kernelspec": {
      "display_name": "Python 3",
      "name": "python3"
    },
    "language_info": {
      "name": "python"
    }
  },
  "nbformat": 4,
  "nbformat_minor": 0
}
